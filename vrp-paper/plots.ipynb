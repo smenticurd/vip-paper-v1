{
 "cells": [
  {
   "cell_type": "code",
   "execution_count": 1,
   "metadata": {},
   "outputs": [],
   "source": [
    "import numpy as np\n",
    "import pandas as pd\n",
    "np.random.seed(44)\n",
    "import matplotlib.pyplot as plt\n",
    "import seaborn as sns\n",
    "sns.set(style=\"whitegrid\", palette=\"rainbow\")\n",
    "import warnings\n",
    "from matplotlib.offsetbox import AnchoredText\n",
    "warnings.filterwarnings(\"ignore\")"
   ]
  },
  {
   "cell_type": "code",
   "execution_count": 6,
   "metadata": {},
   "outputs": [],
   "source": [
    "sizes = [10, 20, 50, 100]\n",
    "apriori = ['apriori', 'reopt']\n",
    "\n",
    "sampling = ['greedy', 'sampling','beam']\n",
    "knn = ['const_demand', 'knn_demand']\n",
    "fixed = ['flex_posit', 'fixed_posit']\n",
    "terms = ['1', '2', '3', '4']\n",
    "filling = ['fil_1','fil_5','fil_9']\n",
    "partial = ['full','partial']\n",
    "stoch = ['none','demand','time','both']\n",
    "model = ['cw','tabu','aco','rnn']\n",
    "aco = ['aco_1', 'aco_2', 'aco_3', 'aco_4']\n",
    "recourse = ['naive', 'preventive','switch','reopt']\n",
    "vehicles = ['vehicles_1', 'vehicles_2', 'vehicles_3', 'vehicles_5']"
   ]
  },
  {
   "cell_type": "code",
   "execution_count": 8,
   "metadata": {},
   "outputs": [
    {
     "ename": "FileNotFoundError",
     "evalue": "csvs/10_apriori_full.txt not found.",
     "output_type": "error",
     "traceback": [
      "\u001b[0;31m-------------------------------------------------------------------------\u001b[0m",
      "\u001b[0;31mFileNotFoundError\u001b[0m                       Traceback (most recent call last)",
      "Cell \u001b[0;32mIn[8], line 42\u001b[0m\n\u001b[1;32m     30\u001b[0m     \u001b[38;5;28;01mreturn\u001b[39;00m all_values, output\n\u001b[1;32m     32\u001b[0m \u001b[38;5;66;03m# all_values, output = read(aco, 'apriori', 4) \u001b[39;00m\n\u001b[1;32m     33\u001b[0m \u001b[38;5;66;03m# all_values, output = read(model, 'apriori', 4)\u001b[39;00m\n\u001b[1;32m     34\u001b[0m \u001b[38;5;66;03m# all_values, output = read(sampling, 'both', 3)\u001b[39;00m\n\u001b[0;32m   (...)\u001b[0m\n\u001b[1;32m     39\u001b[0m \u001b[38;5;66;03m# all_values, output = read(filling, 'both', 3)\u001b[39;00m\n\u001b[1;32m     40\u001b[0m \u001b[38;5;66;03m# all_values, output = read(vehicles, 'both', 4)\u001b[39;00m\n\u001b[0;32m---> 42\u001b[0m all_values, output \u001b[38;5;241m=\u001b[39m read(partial, \u001b[38;5;124m'\u001b[39m\u001b[38;5;124mboth\u001b[39m\u001b[38;5;124m'\u001b[39m, \u001b[38;5;241m2\u001b[39m)\n",
      "Cell \u001b[0;32mIn[8], line 12\u001b[0m, in \u001b[0;36mread\u001b[0;34m(list_, types, opt_posit)\u001b[0m\n\u001b[1;32m     10\u001b[0m \u001b[38;5;28;01mif\u001b[39;00m types \u001b[38;5;241m==\u001b[39m \u001b[38;5;124m'\u001b[39m\u001b[38;5;124mboth\u001b[39m\u001b[38;5;124m'\u001b[39m:\n\u001b[1;32m     11\u001b[0m     \u001b[38;5;28;01mfor\u001b[39;00m apr \u001b[38;5;129;01min\u001b[39;00m apriori:           \n\u001b[0;32m---> 12\u001b[0m         values \u001b[38;5;241m=\u001b[39m np\u001b[38;5;241m.\u001b[39mloadtxt(\u001b[38;5;124m'\u001b[39m\u001b[38;5;124mcsvs/\u001b[39m\u001b[38;5;124m'\u001b[39m \u001b[38;5;241m+\u001b[39m \u001b[38;5;28mstr\u001b[39m(size) \u001b[38;5;241m+\u001b[39m \u001b[38;5;124m'\u001b[39m\u001b[38;5;124m_\u001b[39m\u001b[38;5;124m'\u001b[39m \u001b[38;5;241m+\u001b[39m apr \u001b[38;5;241m+\u001b[39m \u001b[38;5;124m'\u001b[39m\u001b[38;5;124m_\u001b[39m\u001b[38;5;124m'\u001b[39m \u001b[38;5;241m+\u001b[39m key \u001b[38;5;241m+\u001b[39m \u001b[38;5;124m\"\u001b[39m\u001b[38;5;124m.txt\u001b[39m\u001b[38;5;124m\"\u001b[39m)\n\u001b[1;32m     13\u001b[0m         all_values[key][size][apr] \u001b[38;5;241m=\u001b[39m values\n\u001b[1;32m     14\u001b[0m         best \u001b[38;5;241m=\u001b[39m \u001b[38;5;28mmin\u001b[39m(values)\n",
      "File \u001b[0;32m/opt/anaconda3/lib/python3.12/site-packages/numpy/lib/npyio.py:1373\u001b[0m, in \u001b[0;36mloadtxt\u001b[0;34m(fname, dtype, comments, delimiter, converters, skiprows, usecols, unpack, ndmin, encoding, max_rows, quotechar, like)\u001b[0m\n\u001b[1;32m   1370\u001b[0m \u001b[38;5;28;01mif\u001b[39;00m \u001b[38;5;28misinstance\u001b[39m(delimiter, \u001b[38;5;28mbytes\u001b[39m):\n\u001b[1;32m   1371\u001b[0m     delimiter \u001b[38;5;241m=\u001b[39m delimiter\u001b[38;5;241m.\u001b[39mdecode(\u001b[38;5;124m'\u001b[39m\u001b[38;5;124mlatin1\u001b[39m\u001b[38;5;124m'\u001b[39m)\n\u001b[0;32m-> 1373\u001b[0m arr \u001b[38;5;241m=\u001b[39m _read(fname, dtype\u001b[38;5;241m=\u001b[39mdtype, comment\u001b[38;5;241m=\u001b[39mcomment, delimiter\u001b[38;5;241m=\u001b[39mdelimiter,\n\u001b[1;32m   1374\u001b[0m             converters\u001b[38;5;241m=\u001b[39mconverters, skiplines\u001b[38;5;241m=\u001b[39mskiprows, usecols\u001b[38;5;241m=\u001b[39musecols,\n\u001b[1;32m   1375\u001b[0m             unpack\u001b[38;5;241m=\u001b[39munpack, ndmin\u001b[38;5;241m=\u001b[39mndmin, encoding\u001b[38;5;241m=\u001b[39mencoding,\n\u001b[1;32m   1376\u001b[0m             max_rows\u001b[38;5;241m=\u001b[39mmax_rows, quote\u001b[38;5;241m=\u001b[39mquotechar)\n\u001b[1;32m   1378\u001b[0m \u001b[38;5;28;01mreturn\u001b[39;00m arr\n",
      "File \u001b[0;32m/opt/anaconda3/lib/python3.12/site-packages/numpy/lib/npyio.py:992\u001b[0m, in \u001b[0;36m_read\u001b[0;34m(fname, delimiter, comment, quote, imaginary_unit, usecols, skiplines, max_rows, converters, ndmin, unpack, dtype, encoding)\u001b[0m\n\u001b[1;32m    990\u001b[0m     fname \u001b[38;5;241m=\u001b[39m os\u001b[38;5;241m.\u001b[39mfspath(fname)\n\u001b[1;32m    991\u001b[0m \u001b[38;5;28;01mif\u001b[39;00m \u001b[38;5;28misinstance\u001b[39m(fname, \u001b[38;5;28mstr\u001b[39m):\n\u001b[0;32m--> 992\u001b[0m     fh \u001b[38;5;241m=\u001b[39m np\u001b[38;5;241m.\u001b[39mlib\u001b[38;5;241m.\u001b[39m_datasource\u001b[38;5;241m.\u001b[39mopen(fname, \u001b[38;5;124m'\u001b[39m\u001b[38;5;124mrt\u001b[39m\u001b[38;5;124m'\u001b[39m, encoding\u001b[38;5;241m=\u001b[39mencoding)\n\u001b[1;32m    993\u001b[0m     \u001b[38;5;28;01mif\u001b[39;00m encoding \u001b[38;5;129;01mis\u001b[39;00m \u001b[38;5;28;01mNone\u001b[39;00m:\n\u001b[1;32m    994\u001b[0m         encoding \u001b[38;5;241m=\u001b[39m \u001b[38;5;28mgetattr\u001b[39m(fh, \u001b[38;5;124m'\u001b[39m\u001b[38;5;124mencoding\u001b[39m\u001b[38;5;124m'\u001b[39m, \u001b[38;5;124m'\u001b[39m\u001b[38;5;124mlatin1\u001b[39m\u001b[38;5;124m'\u001b[39m)\n",
      "File \u001b[0;32m/opt/anaconda3/lib/python3.12/site-packages/numpy/lib/_datasource.py:193\u001b[0m, in \u001b[0;36mopen\u001b[0;34m(path, mode, destpath, encoding, newline)\u001b[0m\n\u001b[1;32m    156\u001b[0m \u001b[38;5;250m\u001b[39m\u001b[38;5;124;03m\"\"\"\u001b[39;00m\n\u001b[1;32m    157\u001b[0m \u001b[38;5;124;03mOpen `path` with `mode` and return the file object.\u001b[39;00m\n\u001b[1;32m    158\u001b[0m \n\u001b[0;32m   (...)\u001b[0m\n\u001b[1;32m    189\u001b[0m \n\u001b[1;32m    190\u001b[0m \u001b[38;5;124;03m\"\"\"\u001b[39;00m\n\u001b[1;32m    192\u001b[0m ds \u001b[38;5;241m=\u001b[39m DataSource(destpath)\n\u001b[0;32m--> 193\u001b[0m \u001b[38;5;28;01mreturn\u001b[39;00m ds\u001b[38;5;241m.\u001b[39mopen(path, mode, encoding\u001b[38;5;241m=\u001b[39mencoding, newline\u001b[38;5;241m=\u001b[39mnewline)\n",
      "File \u001b[0;32m/opt/anaconda3/lib/python3.12/site-packages/numpy/lib/_datasource.py:533\u001b[0m, in \u001b[0;36mDataSource.open\u001b[0;34m(self, path, mode, encoding, newline)\u001b[0m\n\u001b[1;32m    530\u001b[0m     \u001b[38;5;28;01mreturn\u001b[39;00m _file_openers[ext](found, mode\u001b[38;5;241m=\u001b[39mmode,\n\u001b[1;32m    531\u001b[0m                               encoding\u001b[38;5;241m=\u001b[39mencoding, newline\u001b[38;5;241m=\u001b[39mnewline)\n\u001b[1;32m    532\u001b[0m \u001b[38;5;28;01melse\u001b[39;00m:\n\u001b[0;32m--> 533\u001b[0m     \u001b[38;5;28;01mraise\u001b[39;00m \u001b[38;5;167;01mFileNotFoundError\u001b[39;00m(\u001b[38;5;124mf\u001b[39m\u001b[38;5;124m\"\u001b[39m\u001b[38;5;132;01m{\u001b[39;00mpath\u001b[38;5;132;01m}\u001b[39;00m\u001b[38;5;124m not found.\u001b[39m\u001b[38;5;124m\"\u001b[39m)\n",
      "\u001b[0;31mFileNotFoundError\u001b[0m: csvs/10_apriori_full.txt not found."
     ]
    }
   ],
   "source": [
    "def read(list_, types, opt_posit):\n",
    "    \n",
    "    output = ''\n",
    "    all_values = {}\n",
    "    for j in range(len(list_)):\n",
    "        key = list_[j]\n",
    "        all_values[key] = {}\n",
    "        for size in sizes:\n",
    "            all_values[key][size] = {}\n",
    "            if types == 'both':\n",
    "                for apr in apriori:           \n",
    "                    values = np.loadtxt('csvs/' + str(size) + '_' + apr + '_' + key + \".txt\")\n",
    "                    all_values[key][size][apr] = values\n",
    "                    best = min(values)\n",
    "                    if j == opt_posit-1:\n",
    "                        output = output + ' & \\\\textbf{' + str(round(best, 2)) + '}'\n",
    "                    else:\n",
    "                        output = output + ' & ' + str(round(best, 2))\n",
    "            else:\n",
    "                apr = types\n",
    "                values = np.loadtxt('csvs/' + str(size) + '_' + apr + '_' + key + \".txt\")\n",
    "                all_values[key][size][apr] = values\n",
    "                best = min(values)\n",
    "                if j == opt_posit-1:\n",
    "                    output = output + ' & \\\\textbf{' + str(round(best, 2)) + '}'\n",
    "                else:\n",
    "                    output = output + ' & ' + str(round(best, 2))\n",
    "        output = output + ' \\\\' + '\\ \\n'\n",
    "                \n",
    "    return all_values, output\n",
    "            \n",
    "# all_values, output = read(aco, 'apriori', 4) \n",
    "# all_values, output = read(model, 'apriori', 4)\n",
    "# all_values, output = read(sampling, 'both', 3)\n",
    "# all_values, output = read(knn, 'both', 2) # plot demand\n",
    "# all_values, output = read(stoch, 'both', 5)\n",
    "# all_values, output = read(terms, 'both', 1)\n",
    "# all_values, output = read(fixed, 'both', 2) # plot position\n",
    "# all_values, output = read(filling, 'both', 3)\n",
    "# all_values, output = read(vehicles, 'both', 4)\n",
    "\n",
    "all_values, output = read(partial, 'both', 2) # plot supply\n",
    "# all_values, output = read(recourse, 'apriori', 4)"
   ]
  },
  {
   "cell_type": "code",
   "execution_count": null,
   "metadata": {},
   "outputs": [],
   "source": [
    "print(output)"
   ]
  },
  {
   "cell_type": "code",
   "execution_count": null,
   "metadata": {},
   "outputs": [],
   "source": [
    "keys = ['const_demand', 'knn_demand']\n",
    "keys = ['flex_posit', 'fixed_posit']\n",
    "keys = ['full','partial']\n",
    "v1 = all_values[keys[0]][100]['apriori'] # apriori\n",
    "v2 = all_values[keys[1]][100]['apriori'] # reopt\n",
    "v3 = [100*i for i in range(100)]\n",
    "\n",
    "data = pd.DataFrame({'Constant':v1,'k-NN':v2})\n",
    "resplot = sns.lineplot(data=data, palette=\"tab10\", linewidth=2.5)\n",
    "resplot.set_xticklabels(['', '0', '2000', '4000', '6000', '8000', '10000'])\n",
    "\n",
    "# resplot.set(xticklabels=[])\n",
    "resplot.set(xlabel =\"Training Iterations\", ylabel =\"Avg. Travel Cost\")\n",
    "\n",
    "plt.ylim([45,85]) # _50_15\n",
    "plt.legend(fontsize='x-large', title_fontsize='40')\n",
    "plt.savefig(\"plots/supply_apriori.pdf\", format=\"pdf\", bbox_extra_artists=(resplot,), bbox_inches='tight')"
   ]
  },
  {
   "cell_type": "code",
   "execution_count": null,
   "metadata": {},
   "outputs": [],
   "source": [
    "tables_plot_main = pd.DataFrame(columns=['Models', 'Problem Size', 'Correlated to Uncorrelated gap (in percent %)'])\n",
    "sizes = [10, 20, 50, 100]\n",
    "models = ['RL_apriori', 'RL_reopt', 'ACO', 'Tabu', 'CW']\n",
    "\n",
    "rl_apriori1 = [6.74, 10.92, 21.83, 51.38]\n",
    "rl_reopt1 = [6.59,  10.61,  21.47,  50.61]\n",
    "rl_apriori2 = [6.31, 10.73, 21.27, 50.45]\n",
    "rl_reopt2 = [6.12,  10.41,  20.63,  48.93]\n",
    "\n",
    "rl_apriori = (np.array(rl_apriori1) - np.array(rl_apriori2))/np.array(rl_apriori2) * 100\n",
    "rl_reopt = (np.array(rl_reopt1) - np.array(rl_reopt2))/np.array(rl_reopt2) * 100\n",
    "aco = [0.89, 0.04, -0.06, -1.18]\n",
    "tabu = [0.08, -0.19, -1.02, -2.14]\n",
    "cw = [-1.54, -1.59, -2.21, -4.08]\n",
    "\n",
    "data = [rl_apriori, rl_reopt, aco, tabu, cw]\n",
    "\n",
    "for i in range(5):\n",
    "    model_data = data[i]\n",
    "    model_name = models[i]\n",
    "    \n",
    "    for j in range(4):\n",
    "        size = sizes[j]\n",
    "        size_data = model_data[j]\n",
    "        loc = len(tables_plot_main)\n",
    "        tables_plot_main.loc[loc] = [model_name, size, size_data]"
   ]
  },
  {
   "cell_type": "code",
   "execution_count": null,
   "metadata": {},
   "outputs": [],
   "source": [
    "f, ax = plt.subplots()\n",
    "sns.despine(bottom=True, left=True)\n",
    "\n",
    "sns.stripplot(x=\"Problem Size\", y=\"Correlated to Uncorrelated gap (in percent %)\", hue=\"Models\",\n",
    "              data=tables_plot_main, dodge=False, alpha=0.0, zorder=1)\n",
    "\n",
    "sns.pointplot(x=\"Problem Size\", y=\"Correlated to Uncorrelated gap (in percent %)\", hue=\"Models\",\n",
    "              data=tables_plot_main, dodge=False,\n",
    "              join=False, palette=\"bright\",\n",
    "              markers=\"d\", scale=1.1, ci=None)\n",
    "\n",
    "handles, labels = ax.get_legend_handles_labels()\n",
    "lgd = ax.legend([handles[6]] + [handles[5]] + handles[7:], [labels[6]] + [labels[5]] + labels[7:], title=\"\",\n",
    "          handletextpad=0, columnspacing=1,\n",
    "          loc=\"lower right\", bbox_to_anchor=(1.00, 0.95), ncol=5, frameon=True)\n",
    "\n",
    "plt.ylim(-5, 5)\n",
    "plt.savefig(\"plots/main_plot.pdf\", format=\"pdf\", bbox_extra_artists=(lgd,), bbox_inches='tight')"
   ]
  },
  {
   "cell_type": "code",
   "execution_count": null,
   "metadata": {},
   "outputs": [],
   "source": []
  }
 ],
 "metadata": {
  "kernelspec": {
   "display_name": "Python 3 (ipykernel)",
   "language": "python",
   "name": "python3"
  },
  "language_info": {
   "codemirror_mode": {
    "name": "ipython",
    "version": 3
   },
   "file_extension": ".py",
   "mimetype": "text/x-python",
   "name": "python",
   "nbconvert_exporter": "python",
   "pygments_lexer": "ipython3",
   "version": "3.12.7"
  }
 },
 "nbformat": 4,
 "nbformat_minor": 4
}
