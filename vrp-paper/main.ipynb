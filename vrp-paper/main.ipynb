{
 "cells": [
  {
   "cell_type": "code",
   "execution_count": null,
   "metadata": {},
   "outputs": [],
   "source": [
    "import argparse\n",
    "import os\n",
    "import numpy as np\n",
    "from tqdm import tqdm \n",
    "import tensorflow as tf\n",
    "import time\n",
    "\n",
    "from configs import ParseParams\n",
    "\n",
    "from shared.decode_step import RNNDecodeStep\n",
    "from model.attention_agent import RLAgent\n",
    "\n",
    "from tools import *"
   ]
  },
  {
   "cell_type": "code",
   "execution_count": null,
   "metadata": {},
   "outputs": [],
   "source": [
    "args, prt = ParseParams()\n",
    "\n",
    "A, B, G, F = 0.6, 0.2, 0.2, 0.5\n",
    "random_seed = args['random_seed']\n",
    "if random_seed is not None and random_seed > 0:\n",
    "    prt.print_out(\"# Set random seed to %d\" % random_seed)\n",
    "    np.random.seed(random_seed)\n",
    "    tf.random.set_seed(random_seed)  # Изменено для TensorFlow 2.x\n",
    "tf.compat.v1.reset_default_graph()  # Для использования с TensorFlow 2.x\n",
    "# args['task'] change as config\n",
    "args['input_dim'] = 19 + args['n_nodes']\n",
    "main(args, prt, A, B, G, F)\n"
   ]
  },
  {
   "cell_type": "code",
   "execution_count": null,
   "metadata": {},
   "outputs": [],
   "source": [
    "import tensorflow as tf\n",
    "print(tf.__version__)"
   ]
  },
  {
   "cell_type": "code",
   "execution_count": null,
   "metadata": {},
   "outputs": [],
   "source": []
  }
 ],
 "metadata": {
  "kernelspec": {
   "display_name": "Python 3 (ipykernel)",
   "language": "python",
   "name": "python3"
  },
  "language_info": {
   "codemirror_mode": {
    "name": "ipython",
    "version": 3
   },
   "file_extension": ".py",
   "mimetype": "text/x-python",
   "name": "python",
   "nbconvert_exporter": "python",
   "pygments_lexer": "ipython3",
   "version": "3.12.7"
  }
 },
 "nbformat": 4,
 "nbformat_minor": 4
}
